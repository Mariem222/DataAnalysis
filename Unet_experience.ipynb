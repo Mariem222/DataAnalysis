{
  "nbformat": 4,
  "nbformat_minor": 0,
  "metadata": {
    "colab": {
      "provenance": [],
      "gpuType": "T4",
      "authorship_tag": "ABX9TyPYAuWBKSJZvC6YVrCY4T4T",
      "include_colab_link": true
    },
    "kernelspec": {
      "name": "python3",
      "display_name": "Python 3"
    },
    "language_info": {
      "name": "python"
    },
    "accelerator": "GPU"
  },
  "cells": [
    {
      "cell_type": "markdown",
      "metadata": {
        "id": "view-in-github",
        "colab_type": "text"
      },
      "source": [
        "<a href=\"https://colab.research.google.com/github/Mariem222/DataAnalysis/blob/main/Unet_experience.ipynb\" target=\"_parent\"><img src=\"https://colab.research.google.com/assets/colab-badge.svg\" alt=\"Open In Colab\"/></a>"
      ]
    },
    {
      "cell_type": "code",
      "execution_count": 3,
      "metadata": {
        "colab": {
          "base_uri": "https://localhost:8080/"
        },
        "id": "eT0_UTeucNie",
        "outputId": "6bbb70e2-d15f-4354-90df-871d85fa3bd9"
      },
      "outputs": [
        {
          "output_type": "execute_result",
          "data": {
            "text/plain": [
              "True"
            ]
          },
          "metadata": {},
          "execution_count": 3
        }
      ],
      "source": [
        "from osgeo import gdal\n",
        "import numpy as np\n",
        "import cv2\n",
        "\n",
        "# Load the bands\n",
        "red = gdal.Open(\"B4.tiff\").ReadAsArray()\n",
        "green = gdal.Open(\"B3.tiff\").ReadAsArray()\n",
        "blue = gdal.Open(\"B2.tiff\").ReadAsArray()\n",
        "\n",
        "# Stack bands into RGB image\n",
        "rgb = np.stack([red, green, blue], axis=-1)\n",
        "rgb = (rgb / np.max(rgb) * 255).astype(np.uint8)\n",
        "\n",
        "# Save as RGB image\n",
        "cv2.imwrite(\"sentinel2_rgb.png\", rgb)\n"
      ]
    },
    {
      "cell_type": "code",
      "source": [
        "!apt update -qq\n",
        "!apt install -qq gdal-bin python3-gdal"
      ],
      "metadata": {
        "colab": {
          "base_uri": "https://localhost:8080/"
        },
        "id": "vjt75S-IeVay",
        "outputId": "c6cdd9c4-700c-4cf8-ae08-ebbe9af92203"
      },
      "execution_count": 2,
      "outputs": [
        {
          "output_type": "stream",
          "name": "stdout",
          "text": [
            "33 packages can be upgraded. Run 'apt list --upgradable' to see them.\n",
            "\u001b[1;33mW: \u001b[0mSkipping acquire of configured file 'main/source/Sources' as repository 'https://r2u.stat.illinois.edu/ubuntu jammy InRelease' does not seem to provide it (sources.list entry misspelt?)\u001b[0m\n",
            "The following additional packages will be installed:\n",
            "  python3-numpy\n",
            "Suggested packages:\n",
            "  libgdal-grass python-numpy-doc python3-pytest\n",
            "The following NEW packages will be installed:\n",
            "  gdal-bin python3-gdal python3-numpy\n",
            "0 upgraded, 3 newly installed, 0 to remove and 33 not upgraded.\n",
            "Need to get 5,055 kB of archives.\n",
            "After this operation, 25.1 MB of additional disk space will be used.\n",
            "Selecting previously unselected package python3-numpy.\n",
            "(Reading database ... 124947 files and directories currently installed.)\n",
            "Preparing to unpack .../python3-numpy_1%3a1.21.5-1ubuntu22.04.1_amd64.deb ...\n",
            "Unpacking python3-numpy (1:1.21.5-1ubuntu22.04.1) ...\n",
            "Selecting previously unselected package python3-gdal.\n",
            "Preparing to unpack .../python3-gdal_3.6.4+dfsg-1~jammy0_amd64.deb ...\n",
            "Unpacking python3-gdal (3.6.4+dfsg-1~jammy0) ...\n",
            "Selecting previously unselected package gdal-bin.\n",
            "Preparing to unpack .../gdal-bin_3.6.4+dfsg-1~jammy0_amd64.deb ...\n",
            "Unpacking gdal-bin (3.6.4+dfsg-1~jammy0) ...\n",
            "Setting up python3-numpy (1:1.21.5-1ubuntu22.04.1) ...\n",
            "Setting up python3-gdal (3.6.4+dfsg-1~jammy0) ...\n",
            "Setting up gdal-bin (3.6.4+dfsg-1~jammy0) ...\n",
            "Processing triggers for man-db (2.10.2-1) ...\n"
          ]
        }
      ]
    },
    {
      "cell_type": "code",
      "source": [
        "!gdalwarp -tr 0.001 0.001 -r cubic B11.tiff B11_resampled.tif\n"
      ],
      "metadata": {
        "colab": {
          "base_uri": "https://localhost:8080/"
        },
        "id": "LSBlC9IKdiEg",
        "outputId": "0f5a9b3e-52ac-41af-9e97-2ea97062ce0f"
      },
      "execution_count": 8,
      "outputs": [
        {
          "output_type": "stream",
          "name": "stdout",
          "text": [
            "Creating output file that is 497P x 390L.\n",
            "Processing B11.tiff [1/1] : 0...10...20...30...40...50...60...70...80...90...100 - done.\n"
          ]
        }
      ]
    },
    {
      "cell_type": "code",
      "source": [
        "import cv2\n",
        "import numpy as np\n",
        "\n",
        "image = cv2.imread(\"sentinel2_rgb.png\").astype(np.float32) / 255.0\n"
      ],
      "metadata": {
        "id": "8ZNA1r6PfmPY"
      },
      "execution_count": 9,
      "outputs": []
    },
    {
      "cell_type": "code",
      "source": [
        "from tensorflow.keras.preprocessing.image import img_to_array\n",
        "\n",
        "def crop_image(image, size=256):\n",
        "    h, w, _ = image.shape\n",
        "    patches = []\n",
        "    for i in range(0, h, size):\n",
        "        for j in range(0, w, size):\n",
        "            patch = image[i:i+size, j:j+size]\n",
        "            if patch.shape[:2] == (size, size):  # Ensure all patches are same size\n",
        "                patches.append(patch)\n",
        "    return np.array(patches)\n",
        "\n",
        "patches = crop_image(image)\n"
      ],
      "metadata": {
        "id": "B-9-nT7bgKUN"
      },
      "execution_count": 10,
      "outputs": []
    },
    {
      "cell_type": "code",
      "source": [
        "import torch\n",
        "from torchvision import transforms\n",
        "from PIL import Image\n",
        "\n",
        "model = torch.hub.load('pytorch/vision:v0.10.0', 'deeplabv3_resnet101', pretrained=True)\n",
        "model.eval()\n",
        "\n",
        "img = Image.open(\"sentinel2_rgb.png\").convert(\"RGB\")\n",
        "preprocess = transforms.Compose([\n",
        "    transforms.Resize((512, 512)),\n",
        "    transforms.ToTensor(),\n",
        "])\n",
        "input_tensor = preprocess(img).unsqueeze(0)\n",
        "\n",
        "with torch.no_grad():\n",
        "    output = model(input_tensor)[\"out\"][0]\n",
        "mask = (output.argmax(0) == 1).numpy().astype(\"uint8\") * 255\n",
        "Image.fromarray(mask).save(\"road_mask.tif\")\n"
      ],
      "metadata": {
        "colab": {
          "base_uri": "https://localhost:8080/"
        },
        "id": "vW3Jk26bgOW9",
        "outputId": "28b4b6df-23f7-4c21-d7bc-7651ae09fc59"
      },
      "execution_count": 11,
      "outputs": [
        {
          "output_type": "stream",
          "name": "stderr",
          "text": [
            "Downloading: \"https://github.com/pytorch/vision/zipball/v0.10.0\" to /root/.cache/torch/hub/v0.10.0.zip\n",
            "/usr/local/lib/python3.11/dist-packages/torchvision/models/_utils.py:208: UserWarning: The parameter 'pretrained' is deprecated since 0.13 and may be removed in the future, please use 'weights' instead.\n",
            "  warnings.warn(\n",
            "/usr/local/lib/python3.11/dist-packages/torchvision/models/_utils.py:223: UserWarning: Arguments other than a weight enum or `None` for 'weights' are deprecated since 0.13 and may be removed in the future. The current behavior is equivalent to passing `weights=DeepLabV3_ResNet101_Weights.COCO_WITH_VOC_LABELS_V1`. You can also use `weights=DeepLabV3_ResNet101_Weights.DEFAULT` to get the most up-to-date weights.\n",
            "  warnings.warn(msg)\n",
            "Downloading: \"https://download.pytorch.org/models/deeplabv3_resnet101_coco-586e9e4e.pth\" to /root/.cache/torch/hub/checkpoints/deeplabv3_resnet101_coco-586e9e4e.pth\n",
            "100%|██████████| 233M/233M [00:01<00:00, 181MB/s]\n"
          ]
        }
      ]
    },
    {
      "cell_type": "code",
      "source": [
        "import tensorflow as tf\n",
        "from tensorflow.keras.preprocessing.image import load_img, img_to_array\n",
        "\n",
        "def load_data(image_path, mask_path, img_size=(256, 256)):\n",
        "    img = load_img(image_path, target_size=img_size, color_mode=\"rgb\")\n",
        "    mask = load_img(mask_path, target_size=img_size, color_mode=\"grayscale\")\n",
        "\n",
        "    img = img_to_array(img) / 255.0\n",
        "    mask = img_to_array(mask) / 255.0  # Ensure binary values 0 or 1\n",
        "\n",
        "    return img, mask\n",
        "\n",
        "image, mask = load_data(\"sentinel2_rgb.png\", \"road_mask.tif\")\n"
      ],
      "metadata": {
        "id": "tcjOQo_sgWfF"
      },
      "execution_count": 12,
      "outputs": []
    },
    {
      "cell_type": "code",
      "source": [
        "from tensorflow.keras import layers, models\n",
        "from tensorflow.keras.regularizers import l2\n",
        "\n",
        "def build_unet(input_shape=(256, 256, 3)):\n",
        "    inputs = layers.Input(input_shape)\n",
        "\n",
        "    # Encoder\n",
        "    c1 = layers.Conv2D(64, (3, 3), activation='relu', padding='same', kernel_regularizer=l2(0.01))(inputs)\n",
        "    c1 = layers.BatchNormalization()(c1)\n",
        "    p1 = layers.MaxPooling2D((2, 2))(c1)\n",
        "    p1 = layers.Dropout(0.3)(p1)\n",
        "\n",
        "    c2 = layers.Conv2D(128, (3, 3), activation='relu', padding='same', kernel_regularizer=l2(0.01))(p1)\n",
        "    c2 = layers.BatchNormalization()(c2)\n",
        "    p2 = layers.MaxPooling2D((2, 2))(c2)\n",
        "    p2 = layers.Dropout(0.3)(p2)\n",
        "\n",
        "    # Bottleneck\n",
        "    c3 = layers.Conv2D(256, (3, 3), activation='relu', padding='same', kernel_regularizer=l2(0.01))(p2)\n",
        "    c3 = layers.BatchNormalization()(c3)\n",
        "    c3 = layers.Dropout(0.3)(c3)\n",
        "\n",
        "    # Decoder\n",
        "    u4 = layers.Conv2DTranspose(128, (3, 3), strides=(2, 2), padding='same')(c3)\n",
        "    c4 = layers.Conv2D(128, (3, 3), activation='relu', padding='same', kernel_regularizer=l2(0.01))(u4)\n",
        "    c4 = layers.BatchNormalization()(c4)\n",
        "    c4 = layers.Dropout(0.3)(c4)\n",
        "\n",
        "    u5 = layers.Conv2DTranspose(64, (3, 3), strides=(2, 2), padding='same')(c4)\n",
        "    c5 = layers.Conv2D(64, (3, 3), activation='relu', padding='same', kernel_regularizer=l2(0.01))(u5)\n",
        "    c5 = layers.BatchNormalization()(c5)\n",
        "    c5 = layers.Dropout(0.3)(c5)\n",
        "\n",
        "    outputs = layers.Conv2D(1, (1, 1), activation='sigmoid')(c5)\n",
        "\n",
        "    model = models.Model(inputs, outputs)\n",
        "    model.compile(optimizer='adam', loss='binary_crossentropy', metrics=['accuracy'])\n",
        "\n",
        "    return model\n",
        "\n",
        "model = build_unet()\n"
      ],
      "metadata": {
        "id": "j-g4BwTugexU"
      },
      "execution_count": 23,
      "outputs": []
    },
    {
      "cell_type": "code",
      "source": [
        "import numpy as np\n",
        "import cv2\n",
        "\n",
        "def crop_image(image, mask, size=256):\n",
        "    h, w, _ = image.shape\n",
        "    patches_img = []\n",
        "    patches_mask = []\n",
        "\n",
        "    # Padding the image and mask to ensure they are divisible by the patch size\n",
        "    pad_h = (size - h % size) % size\n",
        "    pad_w = (size - w % size) % size\n",
        "    image_padded = np.pad(image, ((0, pad_h), (0, pad_w), (0, 0)), mode='constant')\n",
        "    mask_padded = np.pad(mask, ((0, pad_h), (0, pad_w)), mode='constant')\n",
        "\n",
        "    # Iterate over the padded image and mask to extract patches\n",
        "    for i in range(0, image_padded.shape[0], size):\n",
        "        for j in range(0, image_padded.shape[1], size):\n",
        "            patch_img = image_padded[i:i+size, j:j+size]\n",
        "            patch_mask = mask_padded[i:i+size, j:j+size]\n",
        "\n",
        "            # Ensure both patches are of the correct shape\n",
        "            if patch_img.shape == (size, size, 3) and patch_mask.shape == (size, size):\n",
        "                patches_img.append(patch_img)\n",
        "                patches_mask.append(patch_mask)\n",
        "\n",
        "    # Convert lists to arrays only if they are consistent\n",
        "    patches_img = np.array(patches_img)\n",
        "    patches_mask = np.array(patches_mask)\n",
        "\n",
        "    # Check that all patches have the expected shape\n",
        "    print(f\"Shape of patches_img: {patches_img.shape}\")\n",
        "    print(f\"Shape of patches_mask: {patches_mask.shape}\")\n",
        "\n",
        "    return patches_img, patches_mask\n",
        "\n",
        "# Crop the image and mask into smaller patches for training\n",
        "X, Y = crop_image(image, mask, size=256)\n",
        "\n",
        "# Split the data into training and validation sets (80% train, 20% validation)\n",
        "from sklearn.model_selection import train_test_split\n",
        "X_train, X_val, Y_train, Y_val = train_test_split(X, Y, test_size=0.2, random_state=42)\n"
      ],
      "metadata": {
        "colab": {
          "base_uri": "https://localhost:8080/"
        },
        "id": "qCY1Rz9yhe4J",
        "outputId": "fc63d652-519f-4473-d3ed-33aeefbad688"
      },
      "execution_count": 24,
      "outputs": [
        {
          "output_type": "stream",
          "name": "stdout",
          "text": [
            "Shape of patches_img: (4, 256, 256, 3)\n",
            "Shape of patches_mask: (4, 256, 256)\n"
          ]
        }
      ]
    },
    {
      "cell_type": "code",
      "source": [
        "model.fit(X_train, Y_train, validation_data=(X_val, Y_val), epochs=50, batch_size=16)\n"
      ],
      "metadata": {
        "colab": {
          "base_uri": "https://localhost:8080/"
        },
        "id": "U3IaAr46gh8I",
        "outputId": "d06edf4f-0ea8-4220-9452-ca78146dd8ab"
      },
      "execution_count": 25,
      "outputs": [
        {
          "output_type": "stream",
          "name": "stdout",
          "text": [
            "Epoch 1/50\n",
            "\u001b[1m1/1\u001b[0m \u001b[32m━━━━━━━━━━━━━━━━━━━━\u001b[0m\u001b[37m\u001b[0m \u001b[1m13s\u001b[0m 13s/step - accuracy: 0.4966 - loss: 5.4751 - val_accuracy: 1.0000 - val_loss: 5.0094\n",
            "Epoch 2/50\n",
            "\u001b[1m1/1\u001b[0m \u001b[32m━━━━━━━━━━━━━━━━━━━━\u001b[0m\u001b[37m\u001b[0m \u001b[1m2s\u001b[0m 2s/step - accuracy: 0.4883 - loss: 5.2195 - val_accuracy: 1.0000 - val_loss: 4.8057\n",
            "Epoch 3/50\n",
            "\u001b[1m1/1\u001b[0m \u001b[32m━━━━━━━━━━━━━━━━━━━━\u001b[0m\u001b[37m\u001b[0m \u001b[1m0s\u001b[0m 295ms/step - accuracy: 0.4859 - loss: 4.9279 - val_accuracy: 1.0000 - val_loss: 4.5998\n",
            "Epoch 4/50\n",
            "\u001b[1m1/1\u001b[0m \u001b[32m━━━━━━━━━━━━━━━━━━━━\u001b[0m\u001b[37m\u001b[0m \u001b[1m0s\u001b[0m 300ms/step - accuracy: 0.4948 - loss: 4.6902 - val_accuracy: 1.0000 - val_loss: 4.3939\n",
            "Epoch 5/50\n",
            "\u001b[1m1/1\u001b[0m \u001b[32m━━━━━━━━━━━━━━━━━━━━\u001b[0m\u001b[37m\u001b[0m \u001b[1m0s\u001b[0m 185ms/step - accuracy: 0.5175 - loss: 4.4726 - val_accuracy: 1.0000 - val_loss: 4.1909\n",
            "Epoch 6/50\n",
            "\u001b[1m1/1\u001b[0m \u001b[32m━━━━━━━━━━━━━━━━━━━━\u001b[0m\u001b[37m\u001b[0m \u001b[1m0s\u001b[0m 149ms/step - accuracy: 0.5447 - loss: 4.2605 - val_accuracy: 1.0000 - val_loss: 3.9923\n",
            "Epoch 7/50\n",
            "\u001b[1m1/1\u001b[0m \u001b[32m━━━━━━━━━━━━━━━━━━━━\u001b[0m\u001b[37m\u001b[0m \u001b[1m0s\u001b[0m 180ms/step - accuracy: 0.5710 - loss: 4.0571 - val_accuracy: 1.0000 - val_loss: 3.7991\n",
            "Epoch 8/50\n",
            "\u001b[1m1/1\u001b[0m \u001b[32m━━━━━━━━━━━━━━━━━━━━\u001b[0m\u001b[37m\u001b[0m \u001b[1m0s\u001b[0m 129ms/step - accuracy: 0.5923 - loss: 3.8636 - val_accuracy: 1.0000 - val_loss: 3.6119\n",
            "Epoch 9/50\n",
            "\u001b[1m1/1\u001b[0m \u001b[32m━━━━━━━━━━━━━━━━━━━━\u001b[0m\u001b[37m\u001b[0m \u001b[1m0s\u001b[0m 129ms/step - accuracy: 0.6059 - loss: 3.6735 - val_accuracy: 1.0000 - val_loss: 3.4314\n",
            "Epoch 10/50\n",
            "\u001b[1m1/1\u001b[0m \u001b[32m━━━━━━━━━━━━━━━━━━━━\u001b[0m\u001b[37m\u001b[0m \u001b[1m0s\u001b[0m 139ms/step - accuracy: 0.6182 - loss: 3.4912 - val_accuracy: 1.0000 - val_loss: 3.2578\n",
            "Epoch 11/50\n",
            "\u001b[1m1/1\u001b[0m \u001b[32m━━━━━━━━━━━━━━━━━━━━\u001b[0m\u001b[37m\u001b[0m \u001b[1m0s\u001b[0m 164ms/step - accuracy: 0.6332 - loss: 3.3158 - val_accuracy: 1.0000 - val_loss: 3.0913\n",
            "Epoch 12/50\n",
            "\u001b[1m1/1\u001b[0m \u001b[32m━━━━━━━━━━━━━━━━━━━━\u001b[0m\u001b[37m\u001b[0m \u001b[1m0s\u001b[0m 124ms/step - accuracy: 0.6556 - loss: 3.1462 - val_accuracy: 1.0000 - val_loss: 2.9319\n",
            "Epoch 13/50\n",
            "\u001b[1m1/1\u001b[0m \u001b[32m━━━━━━━━━━━━━━━━━━━━\u001b[0m\u001b[37m\u001b[0m \u001b[1m0s\u001b[0m 162ms/step - accuracy: 0.6783 - loss: 2.9861 - val_accuracy: 1.0000 - val_loss: 2.7800\n",
            "Epoch 14/50\n",
            "\u001b[1m1/1\u001b[0m \u001b[32m━━━━━━━━━━━━━━━━━━━━\u001b[0m\u001b[37m\u001b[0m \u001b[1m0s\u001b[0m 302ms/step - accuracy: 0.6777 - loss: 2.8342 - val_accuracy: 1.0000 - val_loss: 2.6357\n",
            "Epoch 15/50\n",
            "\u001b[1m1/1\u001b[0m \u001b[32m━━━━━━━━━━━━━━━━━━━━\u001b[0m\u001b[37m\u001b[0m \u001b[1m0s\u001b[0m 296ms/step - accuracy: 0.6970 - loss: 2.6886 - val_accuracy: 1.0000 - val_loss: 2.4989\n",
            "Epoch 16/50\n",
            "\u001b[1m1/1\u001b[0m \u001b[32m━━━━━━━━━━━━━━━━━━━━\u001b[0m\u001b[37m\u001b[0m \u001b[1m0s\u001b[0m 263ms/step - accuracy: 0.7390 - loss: 2.5498 - val_accuracy: 1.0000 - val_loss: 2.3694\n",
            "Epoch 17/50\n",
            "\u001b[1m1/1\u001b[0m \u001b[32m━━━━━━━━━━━━━━━━━━━━\u001b[0m\u001b[37m\u001b[0m \u001b[1m0s\u001b[0m 133ms/step - accuracy: 0.7743 - loss: 2.4213 - val_accuracy: 1.0000 - val_loss: 2.2469\n",
            "Epoch 18/50\n",
            "\u001b[1m1/1\u001b[0m \u001b[32m━━━━━━━━━━━━━━━━━━━━\u001b[0m\u001b[37m\u001b[0m \u001b[1m0s\u001b[0m 131ms/step - accuracy: 0.7996 - loss: 2.2968 - val_accuracy: 1.0000 - val_loss: 2.1313\n",
            "Epoch 19/50\n",
            "\u001b[1m1/1\u001b[0m \u001b[32m━━━━━━━━━━━━━━━━━━━━\u001b[0m\u001b[37m\u001b[0m \u001b[1m0s\u001b[0m 169ms/step - accuracy: 0.8180 - loss: 2.1789 - val_accuracy: 1.0000 - val_loss: 2.0222\n",
            "Epoch 20/50\n",
            "\u001b[1m1/1\u001b[0m \u001b[32m━━━━━━━━━━━━━━━━━━━━\u001b[0m\u001b[37m\u001b[0m \u001b[1m0s\u001b[0m 167ms/step - accuracy: 0.8205 - loss: 2.0684 - val_accuracy: 1.0000 - val_loss: 1.9195\n",
            "Epoch 21/50\n",
            "\u001b[1m1/1\u001b[0m \u001b[32m━━━━━━━━━━━━━━━━━━━━\u001b[0m\u001b[37m\u001b[0m \u001b[1m0s\u001b[0m 297ms/step - accuracy: 0.7999 - loss: 1.9671 - val_accuracy: 1.0000 - val_loss: 1.8233\n",
            "Epoch 22/50\n",
            "\u001b[1m1/1\u001b[0m \u001b[32m━━━━━━━━━━━━━━━━━━━━\u001b[0m\u001b[37m\u001b[0m \u001b[1m0s\u001b[0m 120ms/step - accuracy: 0.8806 - loss: 1.8658 - val_accuracy: 1.0000 - val_loss: 1.7328\n",
            "Epoch 23/50\n",
            "\u001b[1m1/1\u001b[0m \u001b[32m━━━━━━━━━━━━━━━━━━━━\u001b[0m\u001b[37m\u001b[0m \u001b[1m0s\u001b[0m 177ms/step - accuracy: 0.9049 - loss: 1.7770 - val_accuracy: 1.0000 - val_loss: 1.6477\n",
            "Epoch 24/50\n",
            "\u001b[1m1/1\u001b[0m \u001b[32m━━━━━━━━━━━━━━━━━━━━\u001b[0m\u001b[37m\u001b[0m \u001b[1m0s\u001b[0m 262ms/step - accuracy: 0.9256 - loss: 1.6881 - val_accuracy: 1.0000 - val_loss: 1.5678\n",
            "Epoch 25/50\n",
            "\u001b[1m1/1\u001b[0m \u001b[32m━━━━━━━━━━━━━━━━━━━━\u001b[0m\u001b[37m\u001b[0m \u001b[1m0s\u001b[0m 127ms/step - accuracy: 0.9324 - loss: 1.6070 - val_accuracy: 1.0000 - val_loss: 1.4931\n",
            "Epoch 26/50\n",
            "\u001b[1m1/1\u001b[0m \u001b[32m━━━━━━━━━━━━━━━━━━━━\u001b[0m\u001b[37m\u001b[0m \u001b[1m0s\u001b[0m 118ms/step - accuracy: 0.9028 - loss: 1.5322 - val_accuracy: 1.0000 - val_loss: 1.4236\n",
            "Epoch 27/50\n",
            "\u001b[1m1/1\u001b[0m \u001b[32m━━━━━━━━━━━━━━━━━━━━\u001b[0m\u001b[37m\u001b[0m \u001b[1m0s\u001b[0m 156ms/step - accuracy: 0.9550 - loss: 1.4592 - val_accuracy: 1.0000 - val_loss: 1.3585\n",
            "Epoch 28/50\n",
            "\u001b[1m1/1\u001b[0m \u001b[32m━━━━━━━━━━━━━━━━━━━━\u001b[0m\u001b[37m\u001b[0m \u001b[1m0s\u001b[0m 158ms/step - accuracy: 0.9695 - loss: 1.3941 - val_accuracy: 1.0000 - val_loss: 1.2975\n",
            "Epoch 29/50\n",
            "\u001b[1m1/1\u001b[0m \u001b[32m━━━━━━━━━━━━━━━━━━━━\u001b[0m\u001b[37m\u001b[0m \u001b[1m0s\u001b[0m 261ms/step - accuracy: 0.9749 - loss: 1.3297 - val_accuracy: 1.0000 - val_loss: 1.2402\n",
            "Epoch 30/50\n",
            "\u001b[1m1/1\u001b[0m \u001b[32m━━━━━━━━━━━━━━━━━━━━\u001b[0m\u001b[37m\u001b[0m \u001b[1m0s\u001b[0m 121ms/step - accuracy: 0.9749 - loss: 1.2692 - val_accuracy: 1.0000 - val_loss: 1.1866\n",
            "Epoch 31/50\n",
            "\u001b[1m1/1\u001b[0m \u001b[32m━━━━━━━━━━━━━━━━━━━━\u001b[0m\u001b[37m\u001b[0m \u001b[1m0s\u001b[0m 143ms/step - accuracy: 0.9552 - loss: 1.2156 - val_accuracy: 1.0000 - val_loss: 1.1366\n",
            "Epoch 32/50\n",
            "\u001b[1m1/1\u001b[0m \u001b[32m━━━━━━━━━━━━━━━━━━━━\u001b[0m\u001b[37m\u001b[0m \u001b[1m0s\u001b[0m 159ms/step - accuracy: 0.9757 - loss: 1.1611 - val_accuracy: 1.0000 - val_loss: 1.0900\n",
            "Epoch 33/50\n",
            "\u001b[1m1/1\u001b[0m \u001b[32m━━━━━━━━━━━━━━━━━━━━\u001b[0m\u001b[37m\u001b[0m \u001b[1m0s\u001b[0m 158ms/step - accuracy: 0.9858 - loss: 1.1135 - val_accuracy: 1.0000 - val_loss: 1.0463\n",
            "Epoch 34/50\n",
            "\u001b[1m1/1\u001b[0m \u001b[32m━━━━━━━━━━━━━━━━━━━━\u001b[0m\u001b[37m\u001b[0m \u001b[1m0s\u001b[0m 118ms/step - accuracy: 0.9916 - loss: 1.0669 - val_accuracy: 1.0000 - val_loss: 1.0054\n",
            "Epoch 35/50\n",
            "\u001b[1m1/1\u001b[0m \u001b[32m━━━━━━━━━━━━━━━━━━━━\u001b[0m\u001b[37m\u001b[0m \u001b[1m0s\u001b[0m 136ms/step - accuracy: 0.9832 - loss: 1.0244 - val_accuracy: 1.0000 - val_loss: 0.9674\n",
            "Epoch 36/50\n",
            "\u001b[1m1/1\u001b[0m \u001b[32m━━━━━━━━━━━━━━━━━━━━\u001b[0m\u001b[37m\u001b[0m \u001b[1m0s\u001b[0m 148ms/step - accuracy: 0.9947 - loss: 0.9852 - val_accuracy: 1.0000 - val_loss: 0.9314\n",
            "Epoch 37/50\n",
            "\u001b[1m1/1\u001b[0m \u001b[32m━━━━━━━━━━━━━━━━━━━━\u001b[0m\u001b[37m\u001b[0m \u001b[1m0s\u001b[0m 174ms/step - accuracy: 0.9934 - loss: 0.9490 - val_accuracy: 1.0000 - val_loss: 0.8976\n",
            "Epoch 38/50\n",
            "\u001b[1m1/1\u001b[0m \u001b[32m━━━━━━━━━━━━━━━━━━━━\u001b[0m\u001b[37m\u001b[0m \u001b[1m0s\u001b[0m 299ms/step - accuracy: 0.9896 - loss: 0.9157 - val_accuracy: 1.0000 - val_loss: 0.8662\n",
            "Epoch 39/50\n",
            "\u001b[1m1/1\u001b[0m \u001b[32m━━━━━━━━━━━━━━━━━━━━\u001b[0m\u001b[37m\u001b[0m \u001b[1m0s\u001b[0m 265ms/step - accuracy: 0.9887 - loss: 0.8793 - val_accuracy: 1.0000 - val_loss: 0.8372\n",
            "Epoch 40/50\n",
            "\u001b[1m1/1\u001b[0m \u001b[32m━━━━━━━━━━━━━━━━━━━━\u001b[0m\u001b[37m\u001b[0m \u001b[1m0s\u001b[0m 124ms/step - accuracy: 0.9950 - loss: 0.8454 - val_accuracy: 1.0000 - val_loss: 0.8097\n",
            "Epoch 41/50\n",
            "\u001b[1m1/1\u001b[0m \u001b[32m━━━━━━━━━━━━━━━━━━━━\u001b[0m\u001b[37m\u001b[0m \u001b[1m0s\u001b[0m 169ms/step - accuracy: 0.9841 - loss: 0.8204 - val_accuracy: 1.0000 - val_loss: 0.7842\n",
            "Epoch 42/50\n",
            "\u001b[1m1/1\u001b[0m \u001b[32m━━━━━━━━━━━━━━━━━━━━\u001b[0m\u001b[37m\u001b[0m \u001b[1m0s\u001b[0m 158ms/step - accuracy: 0.9972 - loss: 0.7954 - val_accuracy: 1.0000 - val_loss: 0.7602\n",
            "Epoch 43/50\n",
            "\u001b[1m1/1\u001b[0m \u001b[32m━━━━━━━━━━━━━━━━━━━━\u001b[0m\u001b[37m\u001b[0m \u001b[1m0s\u001b[0m 258ms/step - accuracy: 0.9956 - loss: 0.7729 - val_accuracy: 1.0000 - val_loss: 0.7377\n",
            "Epoch 44/50\n",
            "\u001b[1m1/1\u001b[0m \u001b[32m━━━━━━━━━━━━━━━━━━━━\u001b[0m\u001b[37m\u001b[0m \u001b[1m0s\u001b[0m 117ms/step - accuracy: 0.9882 - loss: 0.7514 - val_accuracy: 1.0000 - val_loss: 0.7174\n",
            "Epoch 45/50\n",
            "\u001b[1m1/1\u001b[0m \u001b[32m━━━━━━━━━━━━━━━━━━━━\u001b[0m\u001b[37m\u001b[0m \u001b[1m0s\u001b[0m 175ms/step - accuracy: 0.9976 - loss: 0.7254 - val_accuracy: 1.0000 - val_loss: 0.6979\n",
            "Epoch 46/50\n",
            "\u001b[1m1/1\u001b[0m \u001b[32m━━━━━━━━━━━━━━━━━━━━\u001b[0m\u001b[37m\u001b[0m \u001b[1m0s\u001b[0m 188ms/step - accuracy: 0.9981 - loss: 0.7048 - val_accuracy: 1.0000 - val_loss: 0.6791\n",
            "Epoch 47/50\n",
            "\u001b[1m1/1\u001b[0m \u001b[32m━━━━━━━━━━━━━━━━━━━━\u001b[0m\u001b[37m\u001b[0m \u001b[1m0s\u001b[0m 297ms/step - accuracy: 0.9948 - loss: 0.6880 - val_accuracy: 1.0000 - val_loss: 0.6612\n",
            "Epoch 48/50\n",
            "\u001b[1m1/1\u001b[0m \u001b[32m━━━━━━━━━━━━━━━━━━━━\u001b[0m\u001b[37m\u001b[0m \u001b[1m0s\u001b[0m 150ms/step - accuracy: 0.9985 - loss: 0.6691 - val_accuracy: 1.0000 - val_loss: 0.6439\n",
            "Epoch 49/50\n",
            "\u001b[1m1/1\u001b[0m \u001b[32m━━━━━━━━━━━━━━━━━━━━\u001b[0m\u001b[37m\u001b[0m \u001b[1m0s\u001b[0m 146ms/step - accuracy: 0.9984 - loss: 0.6523 - val_accuracy: 1.0000 - val_loss: 0.6270\n",
            "Epoch 50/50\n",
            "\u001b[1m1/1\u001b[0m \u001b[32m━━━━━━━━━━━━━━━━━━━━\u001b[0m\u001b[37m\u001b[0m \u001b[1m0s\u001b[0m 309ms/step - accuracy: 0.9987 - loss: 0.6364 - val_accuracy: 1.0000 - val_loss: 0.6112\n"
          ]
        },
        {
          "output_type": "execute_result",
          "data": {
            "text/plain": [
              "<keras.src.callbacks.history.History at 0x7db01cb593d0>"
            ]
          },
          "metadata": {},
          "execution_count": 25
        }
      ]
    },
    {
      "cell_type": "code",
      "source": [
        "import matplotlib.pyplot as plt\n",
        "\n",
        "# Predict masks for the validation set\n",
        "predicted_masks = model.predict(X_val)\n",
        "\n",
        "# If the model uses sigmoid activation, apply thresholding to get binary masks\n",
        "# Adjust the threshold as needed (e.g., 0.5)\n",
        "predicted_masks_binary = (predicted_masks > 0.5).astype(np.uint8)\n",
        "\n",
        "# Visualize the predicted mask for the first image in the validation set\n",
        "plt.figure(figsize=(12, 6))\n",
        "\n",
        "# Display the first image in the validation set\n",
        "plt.subplot(1, 2, 1)\n",
        "plt.imshow(X_val[0])  # Display the first validation image\n",
        "plt.title('Validation Image')\n",
        "\n",
        "# Display the corresponding predicted mask\n",
        "plt.subplot(1, 2, 2)\n",
        "plt.imshow(predicted_masks_binary[0], cmap='gray')  # Display the predicted mask for the first image\n",
        "plt.title('Predicted Mask')\n",
        "\n",
        "plt.show()\n"
      ],
      "metadata": {
        "colab": {
          "base_uri": "https://localhost:8080/",
          "height": 523
        },
        "id": "edzZO0ktioRG",
        "outputId": "e6c71e9f-4ed8-4385-8444-5ff0ca9be45a"
      },
      "execution_count": 26,
      "outputs": [
        {
          "output_type": "stream",
          "name": "stdout",
          "text": [
            "\u001b[1m1/1\u001b[0m \u001b[32m━━━━━━━━━━━━━━━━━━━━\u001b[0m\u001b[37m\u001b[0m \u001b[1m0s\u001b[0m 492ms/step\n"
          ]
        },
        {
          "output_type": "display_data",
          "data": {
            "text/plain": [
              "<Figure size 1200x600 with 2 Axes>"
            ],
            "image/png": "[encoded data removed]"
          },
          "metadata": {}
        }
      ]
    },
    {
      "cell_type": "code",
      "source": [
        "!ls\n"
      ],
      "metadata": {
        "colab": {
          "base_uri": "https://localhost:8080/"
        },
        "id": "-8KRvO5thOiZ",
        "outputId": "c22b52b9-0aad-4d6c-940e-165ad3b567a8"
      },
      "execution_count": 15,
      "outputs": [
        {
          "output_type": "stream",
          "name": "stdout",
          "text": [
            "B11_resampled.tif  B2.tiff  B4.tiff\t   sample_data\n",
            "B11.tiff\t   B3.tiff  road_mask.tif  sentinel2_rgb.png\n"
          ]
        }
      ]
    }
  ]
}